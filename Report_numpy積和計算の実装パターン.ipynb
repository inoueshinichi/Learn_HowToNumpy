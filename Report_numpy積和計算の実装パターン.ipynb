{
 "cells": [
  {
   "cell_type": "markdown",
   "metadata": {},
   "source": [
    "# 積和計算の実装パターン"
   ]
  },
  {
   "cell_type": "code",
   "execution_count": 15,
   "metadata": {},
   "outputs": [],
   "source": [
    "import numpy as np"
   ]
  },
  {
   "cell_type": "markdown",
   "metadata": {},
   "source": [
    "問1\n",
    "$$\n",
    "    \\sum_{i=1}^{n}a_{i}x_{i}\n",
    "$$"
   ]
  },
  {
   "cell_type": "code",
   "execution_count": 32,
   "metadata": {},
   "outputs": [
    {
     "name": "stdout",
     "output_type": "stream",
     "text": [
      "[0 1 2 3 4]\n",
      "[1. 1. 1. 1. 1.]\n"
     ]
    }
   ],
   "source": [
    "np.random.seed(0)\n",
    "a = np.arange(5)\n",
    "x = np.zeros(a.shape) + 1\n",
    "print(a)\n",
    "print(x)"
   ]
  },
  {
   "cell_type": "markdown",
   "metadata": {},
   "source": [
    "パターン1  \n",
    "$$\n",
    "    \\boldsymbol{a} = (a_{1}, a_{2}, a_{3}, a_{4}, a_{5}) \\\\\n",
    "    \\boldsymbol{x} = (x_{1}, x_{2}, x_{3}, x_{4}, x_{5}) \\\\\n",
    "    \\sum_{i=1}^{n}a_{i}x_{i} = \\boldsymbol{a}^{T}\\boldsymbol{x}\n",
    "$$"
   ]
  },
  {
   "cell_type": "code",
   "execution_count": 33,
   "metadata": {},
   "outputs": [
    {
     "data": {
      "text/plain": [
       "10.0"
      ]
     },
     "execution_count": 33,
     "metadata": {},
     "output_type": "execute_result"
    }
   ],
   "source": [
    "s1 = np.dot(a, x)\n",
    "s1"
   ]
  },
  {
   "cell_type": "markdown",
   "metadata": {},
   "source": [
    "パターン2  \n",
    "$$\n",
    "    \\boldsymbol{a} = (a_{1}, a_{2}, a_{3}, a_{4}, a_{5}) \\\\\n",
    "    \\boldsymbol{x} = (x_{1}, x_{2}, x_{3}, x_{4}, x_{5}) \\\\\n",
    "    \\begin{align}\n",
    "        \\boldsymbol{tmp} &= \\boldsymbol{a} \\odot \\boldsymbol{x} \\\\\n",
    "        &= (a_{1}x_{1}, a_{2}x_{2}, a_{3}x_{3}, a_{4}x_{4}, a_{5}x_{5})\n",
    "    \\end{align} \\\\\n",
    "    \\sum_{i=1}^{n}a_{i}x_{i} = \\boldsymbol{tmp}.sum()\n",
    "$$"
   ]
  },
  {
   "cell_type": "code",
   "execution_count": 34,
   "metadata": {},
   "outputs": [
    {
     "name": "stdout",
     "output_type": "stream",
     "text": [
      "[0. 1. 2. 3. 4.]\n"
     ]
    },
    {
     "data": {
      "text/plain": [
       "10.0"
      ]
     },
     "execution_count": 34,
     "metadata": {},
     "output_type": "execute_result"
    }
   ],
   "source": [
    "tmp = a * x\n",
    "print(tmp)\n",
    "s2 = tmp.sum()\n",
    "s2"
   ]
  },
  {
   "cell_type": "markdown",
   "metadata": {},
   "source": [
    "問2\n",
    "$$\n",
    "    \\sum_{k \\neq i,j}a_{k}x_{k} = \\sum_{k=1}^{n}a_{k}x_{k} - a_{i}x_{i} - a_{j}x_{j}\n",
    "$$"
   ]
  },
  {
   "cell_type": "code",
   "execution_count": 35,
   "metadata": {},
   "outputs": [
    {
     "data": {
      "text/plain": [
       "7.0"
      ]
     },
     "execution_count": 35,
     "metadata": {},
     "output_type": "execute_result"
    }
   ],
   "source": [
    "s3 = s2 - a[1]*x[1] - a[2]*x[2]\n",
    "s3"
   ]
  },
  {
   "cell_type": "markdown",
   "metadata": {},
   "source": [
    "問3  \n",
    "$$\n",
    "    \\sum_{i=1}^{n}a_{i}y_{i}\\boldsymbol{x}_{i} = a_{1}y_{1}\\begin{pmatrix} x_{11}\\\\x_{21}\\\\x_{31}\\end{pmatrix}\n",
    "    + a_{2}y_{2}\\begin{pmatrix} x_{12}\\\\x_{22}\\\\x_{32}\\end{pmatrix} + \\cdots\n",
    "    = \\begin{pmatrix} \\sum_{k=1}^{n}a_{k}y_{k}x_{1k}\\\\ \\sum_{k=1}^{n}a_{k}y_{k}x_{2k} \\\\ \\sum_{k=1}^{n}a_{k}y_{k}x_{3k}\\end{pmatrix}\n",
    "$$"
   ]
  },
  {
   "cell_type": "code",
   "execution_count": 36,
   "metadata": {},
   "outputs": [
    {
     "name": "stdout",
     "output_type": "stream",
     "text": [
      "[[ 0  1  2]\n",
      " [ 3  4  5]\n",
      " [ 6  7  8]\n",
      " [ 9 10 11]]\n",
      "[2 2 2 2]\n"
     ]
    },
    {
     "ename": "NameError",
     "evalue": "name '保留' is not defined",
     "output_type": "error",
     "traceback": [
      "\u001b[1;31m---------------------------------------------------------------------------\u001b[0m",
      "\u001b[1;31mNameError\u001b[0m                                 Traceback (most recent call last)",
      "\u001b[1;32m<ipython-input-36-8d51762b612f>\u001b[0m in \u001b[0;36m<module>\u001b[1;34m()\u001b[0m\n\u001b[0;32m      4\u001b[0m \u001b[0my\u001b[0m \u001b[1;33m=\u001b[0m \u001b[0mnp\u001b[0m\u001b[1;33m.\u001b[0m\u001b[0marray\u001b[0m\u001b[1;33m(\u001b[0m\u001b[1;33m[\u001b[0m\u001b[1;36m2\u001b[0m\u001b[1;33m,\u001b[0m \u001b[1;36m2\u001b[0m\u001b[1;33m,\u001b[0m \u001b[1;36m2\u001b[0m\u001b[1;33m,\u001b[0m \u001b[1;36m2\u001b[0m\u001b[1;33m]\u001b[0m\u001b[1;33m)\u001b[0m\u001b[1;33m\u001b[0m\u001b[0m\n\u001b[0;32m      5\u001b[0m \u001b[0mprint\u001b[0m\u001b[1;33m(\u001b[0m\u001b[0ma\u001b[0m\u001b[1;33m*\u001b[0m\u001b[0my\u001b[0m\u001b[1;33m)\u001b[0m\u001b[1;33m\u001b[0m\u001b[0m\n\u001b[1;32m----> 6\u001b[1;33m \u001b[0m保留\u001b[0m\u001b[1;33m\u001b[0m\u001b[0m\n\u001b[0m",
      "\u001b[1;31mNameError\u001b[0m: name '保留' is not defined"
     ]
    }
   ],
   "source": [
    "X = np.arange(12).reshape(4,3)\n",
    "print(X)\n",
    "a = np.array([1, 1, 1, 1])\n",
    "y = np.array([2, 2, 2, 2])\n",
    "print(a*y)\n",
    "保留"
   ]
  },
  {
   "cell_type": "code",
   "execution_count": null,
   "metadata": {},
   "outputs": [],
   "source": []
  },
  {
   "cell_type": "code",
   "execution_count": null,
   "metadata": {},
   "outputs": [],
   "source": []
  }
 ],
 "metadata": {
  "kernelspec": {
   "display_name": "Python 3",
   "language": "python",
   "name": "python3"
  },
  "language_info": {
   "codemirror_mode": {
    "name": "ipython",
    "version": 3
   },
   "file_extension": ".py",
   "mimetype": "text/x-python",
   "name": "python",
   "nbconvert_exporter": "python",
   "pygments_lexer": "ipython3",
   "version": "3.6.5"
  }
 },
 "nbformat": 4,
 "nbformat_minor": 2
}
